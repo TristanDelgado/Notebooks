{
  "nbformat": 4,
  "nbformat_minor": 0,
  "metadata": {
    "colab": {
      "provenance": [],
      "authorship_tag": "ABX9TyPDj/f1N9SCPOqdj8Is6EPx",
      "include_colab_link": true
    },
    "kernelspec": {
      "name": "python3",
      "display_name": "Python 3"
    },
    "language_info": {
      "name": "python"
    }
  },
  "cells": [
    {
      "cell_type": "markdown",
      "metadata": {
        "id": "view-in-github",
        "colab_type": "text"
      },
      "source": [
        "<a href=\"https://colab.research.google.com/github/TristanDelgado/Notebooks/blob/main/Practice/Python_Challenges.ipynb\" target=\"_parent\"><img src=\"https://colab.research.google.com/assets/colab-badge.svg\" alt=\"Open In Colab\"/></a>"
      ]
    },
    {
      "cell_type": "markdown",
      "source": [
        "#Python Challenges"
      ],
      "metadata": {
        "id": "7neIHL62Dtwq"
      }
    },
    {
      "cell_type": "markdown",
      "source": [
        "Amateur Hour:\n",
        "\n",
        "Write a function that takes time t1 and time t2 and returns the number of hours passed between the two times."
      ],
      "metadata": {
        "id": "48eXEgjCEA94"
      }
    },
    {
      "cell_type": "markdown",
      "source": [
        "Examples\n",
        "\n",
        "```\n",
        "hoursPassed(\"3:00 AM\", \"9:00 AM\")\n",
        "output = \"6 hours\"\n",
        "\n",
        "hoursPassed(\"2:00 PM\", \"4:00 PM\")\n",
        "output = \"2 hours\"\n",
        "\n",
        "hoursPassed(\"1:00 AM\", \"3:00 PM\")\n",
        "output = \"14 hours\"\n",
        "\n",
        "hoursPassed(\"4:00 PM\", \"4:00 PM\")\n",
        "output = \"no time passed\"\n",
        "```"
      ],
      "metadata": {
        "id": "9xL3mEIaEQjr"
      }
    },
    {
      "cell_type": "code",
      "source": [],
      "metadata": {
        "id": "go1ygQswEAtR"
      },
      "execution_count": null,
      "outputs": []
    },
    {
      "cell_type": "markdown",
      "source": [
        "Write a factorial calculating function, include detection for overflows, negative numbers, zero, etc being entered"
      ],
      "metadata": {
        "id": "VrvsgZmVlDjx"
      }
    },
    {
      "cell_type": "code",
      "execution_count": null,
      "metadata": {
        "id": "Zk6VC45pDrsN"
      },
      "outputs": [],
      "source": [
        "def get_factorial(num):\n",
        "  try:\n",
        "    num = int(num)\n",
        "    if((type(num) is not int) or (num < 0)):\n",
        "      raise TypeError(f\"Value of num not an int: {num}\")\n",
        "    if(num == 0):\n",
        "      return 1\n",
        "    else:\n",
        "      return num * get_factorial(num - 1)\n",
        "  except TypeError as e:\n",
        "    print(e)\n",
        "\n",
        "user_input = input(\"Enter a number: \")\n",
        "print(get_factorial(user_input))"
      ]
    }
  ]
}