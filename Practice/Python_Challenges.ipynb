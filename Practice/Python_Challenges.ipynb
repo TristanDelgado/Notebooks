{
  "nbformat": 4,
  "nbformat_minor": 0,
  "metadata": {
    "colab": {
      "provenance": [],
      "authorship_tag": "ABX9TyOd1agpMFBWUW7azqj3lk08",
      "include_colab_link": true
    },
    "kernelspec": {
      "name": "python3",
      "display_name": "Python 3"
    },
    "language_info": {
      "name": "python"
    }
  },
  "cells": [
    {
      "cell_type": "markdown",
      "metadata": {
        "id": "view-in-github",
        "colab_type": "text"
      },
      "source": [
        "<a href=\"https://colab.research.google.com/github/TristanDelgado/Notebooks/blob/main/Practice/Python_Challenges.ipynb\" target=\"_parent\"><img src=\"https://colab.research.google.com/assets/colab-badge.svg\" alt=\"Open In Colab\"/></a>"
      ]
    },
    {
      "cell_type": "markdown",
      "source": [
        "#Python Challenges"
      ],
      "metadata": {
        "id": "7neIHL62Dtwq"
      }
    },
    {
      "cell_type": "markdown",
      "source": [
        "##Practice Question 1"
      ],
      "metadata": {
        "id": "g9apKcKt6fIx"
      }
    },
    {
      "cell_type": "markdown",
      "source": [
        "Amateur Hour:\n",
        "\n",
        "Write a function that takes time t1 and time t2 and returns the number of hours passed between the two times."
      ],
      "metadata": {
        "id": "48eXEgjCEA94"
      }
    },
    {
      "cell_type": "markdown",
      "source": [
        "Examples\n",
        "\n",
        "```\n",
        "hoursPassed(\"3:00 AM\", \"9:00 AM\")\n",
        "output = \"6 hours\"\n",
        "\n",
        "hoursPassed(\"2:00 PM\", \"4:00 PM\")\n",
        "output = \"2 hours\"\n",
        "\n",
        "hoursPassed(\"1:00 AM\", \"3:00 PM\")\n",
        "output = \"14 hours\"\n",
        "\n",
        "hoursPassed(\"4:00 PM\", \"4:00 PM\")\n",
        "output = \"no time passed\"\n",
        "```"
      ],
      "metadata": {
        "id": "9xL3mEIaEQjr"
      }
    },
    {
      "cell_type": "code",
      "source": [
        "def convertTo24Hours(time):\n",
        "  replacements = str.maketrans({\"A\" : \"\", \"P\" : \"\", \":\" : \"\", \"M\" : \"\"})\n",
        "  if(\"AM\" in time):\n",
        "    return int(time.translate(replacements))\n",
        "  else:\n",
        "    time = int(time.translate(replacements))\n",
        "    return (lambda time: time + 1200 if time < 1200 else time)\n",
        "\n",
        "def hoursPassed(time1, time2):\n",
        "  time1 = convertTo24Hours(time1)\n",
        "  time2 = convertTo24Hours(time2)\n",
        "  if(time1 < time2):\n",
        "    time = time2 - time1\n",
        "  else:\n",
        "    time = (2400 - time1) + time2\n",
        "  print(time)\n",
        "  if(time > 1000):\n",
        "    time = str(time)\n",
        "    return(f\"{time[0:2]} hour(s) and {time[2:4]} minute(s) have passed\")\n",
        "  else:\n",
        "    time = str(time)\n",
        "    return(f\"{time[0]} hour(s) and {time[1:3]} mintue(s) have passed\")\n",
        "\n",
        "\n",
        "beginningTime = input(\"Enter the beginning time: \")\n",
        "endingTime = input(\"Enter the ending time: \")\n",
        "print(hoursPassed(beginningTime, endingTime))\n"
      ],
      "metadata": {
        "id": "go1ygQswEAtR"
      },
      "execution_count": null,
      "outputs": []
    },
    {
      "cell_type": "code",
      "source": [],
      "metadata": {
        "id": "etJ1VuBHPi21"
      },
      "execution_count": null,
      "outputs": []
    },
    {
      "cell_type": "markdown",
      "source": [
        "##Practice Question 2"
      ],
      "metadata": {
        "id": "J1vxbsFZ6jo-"
      }
    },
    {
      "cell_type": "markdown",
      "source": [
        "Write a factorial calculating function, include detection for overflows, negative numbers, zero, etc being entered"
      ],
      "metadata": {
        "id": "VrvsgZmVlDjx"
      }
    },
    {
      "cell_type": "code",
      "execution_count": null,
      "metadata": {
        "id": "Zk6VC45pDrsN"
      },
      "outputs": [],
      "source": [
        "def get_factorial(num):\n",
        "  try:\n",
        "    num = int(num)\n",
        "    if((type(num) is not int) or (num < 0)):\n",
        "      raise TypeError(f\"Value of num not an int: {num}\")\n",
        "    if(num == 0):\n",
        "      return 1\n",
        "    else:\n",
        "      return num * get_factorial(num - 1)\n",
        "  except TypeError as e:\n",
        "    print(e)\n",
        "\n",
        "user_input = input(\"Enter a number: \")\n",
        "print(get_factorial(user_input))"
      ]
    },
    {
      "cell_type": "markdown",
      "source": [
        "##Practice Question 3"
      ],
      "metadata": {
        "id": "3FC50jtT6pNT"
      }
    },
    {
      "cell_type": "markdown",
      "source": [
        "Rhyme Time\n",
        "\n",
        "Create a function that returns true if two lines rhyme and false otherwise. For the purposes of this exercise, two lines rhyme if the last word from each sentence contains the same vowels.\n",
        "\n",
        "Examples\n",
        "```\n",
        "doesRhyme(\"Sam I am!\", \"Green eggs and ham.\")\n",
        "output = True\n",
        "doesRhyme(\"Sam I am!\", \"Green eggs and HAM.\")\n",
        "output = True\n",
        "\n",
        "# Capitalization and punctuation should not matter.\n",
        "\n",
        "doesRhyme(\"You're built like a seat\", \"I bet you like to eat\")\n",
        "output = True\n",
        "doesRhyme(\"You are off to the races\", \"a splendid day.\")\n",
        "output = False\n",
        "doesRhyme(\"and frequently do?\", \"you gotta move.\")\n",
        "output = False\n",
        "```\n",
        "Notes:\n",
        "\n",
        "Case insensitive.\n",
        "\n",
        "Here we are disregarding cases like \"thyme\" and \"lime\".\n",
        "\n",
        "We are also disregarding cases like \"away\" and \"today\" (which technically rhyme, even though they contain different vowels)."
      ],
      "metadata": {
        "id": "76ZQOnXB6uqj"
      }
    },
    {
      "cell_type": "code",
      "source": [
        "# Making the \"doesRhyme\" function\n",
        "def doesRhyme(line1, line2):\n",
        "  vowels = [\"a\", \"e\", \"i\", \"o\", \"u\", \"y\"]\n",
        "  line1 = line1.lower()\n",
        "  line2 = line2.lower()"
      ],
      "metadata": {
        "id": "1CSKaZKC7Ng6"
      },
      "execution_count": null,
      "outputs": []
    }
  ]
}