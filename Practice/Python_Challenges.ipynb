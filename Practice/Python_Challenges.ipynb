{
  "nbformat": 4,
  "nbformat_minor": 0,
  "metadata": {
    "colab": {
      "provenance": [],
      "authorship_tag": "ABX9TyMdSqzIbk7O7QIRJ4c64s5e",
      "include_colab_link": true
    },
    "kernelspec": {
      "name": "python3",
      "display_name": "Python 3"
    },
    "language_info": {
      "name": "python"
    }
  },
  "cells": [
    {
      "cell_type": "markdown",
      "metadata": {
        "id": "view-in-github",
        "colab_type": "text"
      },
      "source": [
        "<a href=\"https://colab.research.google.com/github/TristanDelgado/Notebooks/blob/main/Practice/Python_Challenges.ipynb\" target=\"_parent\"><img src=\"https://colab.research.google.com/assets/colab-badge.svg\" alt=\"Open In Colab\"/></a>"
      ]
    },
    {
      "cell_type": "markdown",
      "source": [
        "#Python Challenges"
      ],
      "metadata": {
        "id": "7neIHL62Dtwq"
      }
    },
    {
      "cell_type": "markdown",
      "source": [
        "Amateur Hour:\n",
        "\n",
        "Write a function that takes time t1 and time t2 and returns the number of hours passed between the two times."
      ],
      "metadata": {
        "id": "48eXEgjCEA94"
      }
    },
    {
      "cell_type": "markdown",
      "source": [
        "Examples\n",
        "\n",
        "```\n",
        "hoursPassed(\"3:00 AM\", \"9:00 AM\")\n",
        "output = \"6 hours\"\n",
        "\n",
        "hoursPassed(\"2:00 PM\", \"4:00 PM\")\n",
        "output = \"2 hours\"\n",
        "\n",
        "hoursPassed(\"1:00 AM\", \"3:00 PM\")\n",
        "output = \"14 hours\"\n",
        "\n",
        "hoursPassed(\"4:00 PM\", \"4:00 PM\")\n",
        "output = \"no time passed\"\n",
        "```"
      ],
      "metadata": {
        "id": "9xL3mEIaEQjr"
      }
    },
    {
      "cell_type": "code",
      "source": [
        "def convertTo24Hours(time):\n",
        "  replacements = str.maketrans({\"A\" : \"\", \"P\" : \"\", \":\" : \"\", \"M\" : \"\"})\n",
        "  if(\"AM\" in time):\n",
        "    return int(time.translate(replacements))\n",
        "  else:\n",
        "    time = int(time.translate(replacements))\n",
        "    return (lambda time: time + 1200 if time < 1200 else time)\n",
        "\n",
        "def hoursPassed(time1, time2):\n",
        "  time1 = convertTo24Hours(time1)\n",
        "  time2 = convertTo24Hours(time2)\n",
        "  if(time1 < time2):\n",
        "    time = time2 - time1\n",
        "  else:\n",
        "    time = (2400 - time1) + time2\n",
        "  print(time)\n",
        "  if(time > 1000):\n",
        "    time = str(time)\n",
        "    return(f\"{time[0:2]} hour(s) and {time[2:4]} minute(s) have passed\")\n",
        "  else:\n",
        "    time = str(time)\n",
        "    return(f\"{time[0]} hour(s) and {time[1:3]} mintue(s) have passed\")\n",
        "\n",
        "\n",
        "beginningTime = input(\"Enter the beginning time: \")\n",
        "endingTime = input(\"Enter the ending time: \")\n",
        "print(hoursPassed(beginningTime, endingTime))\n"
      ],
      "metadata": {
        "id": "go1ygQswEAtR",
        "outputId": "5d11f9f6-8f26-4ead-d14c-20c4ecda3884",
        "colab": {
          "base_uri": "https://localhost:8080/",
          "height": 332
        }
      },
      "execution_count": 19,
      "outputs": [
        {
          "name": "stdout",
          "output_type": "stream",
          "text": [
            "Enter the beginning time: 12:30 PM\n",
            "Enter the ending time: 3:00 PM\n"
          ]
        },
        {
          "output_type": "error",
          "ename": "TypeError",
          "evalue": "'<' not supported between instances of 'function' and 'function'",
          "traceback": [
            "\u001b[0;31m---------------------------------------------------------------------------\u001b[0m",
            "\u001b[0;31mTypeError\u001b[0m                                 Traceback (most recent call last)",
            "\u001b[0;32m<ipython-input-19-5e1217401798>\u001b[0m in \u001b[0;36m<cell line: 0>\u001b[0;34m()\u001b[0m\n\u001b[1;32m     25\u001b[0m \u001b[0mbeginningTime\u001b[0m \u001b[0;34m=\u001b[0m \u001b[0minput\u001b[0m\u001b[0;34m(\u001b[0m\u001b[0;34m\"Enter the beginning time: \"\u001b[0m\u001b[0;34m)\u001b[0m\u001b[0;34m\u001b[0m\u001b[0;34m\u001b[0m\u001b[0m\n\u001b[1;32m     26\u001b[0m \u001b[0mendingTime\u001b[0m \u001b[0;34m=\u001b[0m \u001b[0minput\u001b[0m\u001b[0;34m(\u001b[0m\u001b[0;34m\"Enter the ending time: \"\u001b[0m\u001b[0;34m)\u001b[0m\u001b[0;34m\u001b[0m\u001b[0;34m\u001b[0m\u001b[0m\n\u001b[0;32m---> 27\u001b[0;31m \u001b[0mprint\u001b[0m\u001b[0;34m(\u001b[0m\u001b[0mhoursPassed\u001b[0m\u001b[0;34m(\u001b[0m\u001b[0mbeginningTime\u001b[0m\u001b[0;34m,\u001b[0m \u001b[0mendingTime\u001b[0m\u001b[0;34m)\u001b[0m\u001b[0;34m)\u001b[0m\u001b[0;34m\u001b[0m\u001b[0;34m\u001b[0m\u001b[0m\n\u001b[0m",
            "\u001b[0;32m<ipython-input-19-5e1217401798>\u001b[0m in \u001b[0;36mhoursPassed\u001b[0;34m(time1, time2)\u001b[0m\n\u001b[1;32m     10\u001b[0m   \u001b[0mtime1\u001b[0m \u001b[0;34m=\u001b[0m \u001b[0mconvertTo24Hours\u001b[0m\u001b[0;34m(\u001b[0m\u001b[0mtime1\u001b[0m\u001b[0;34m)\u001b[0m\u001b[0;34m\u001b[0m\u001b[0;34m\u001b[0m\u001b[0m\n\u001b[1;32m     11\u001b[0m   \u001b[0mtime2\u001b[0m \u001b[0;34m=\u001b[0m \u001b[0mconvertTo24Hours\u001b[0m\u001b[0;34m(\u001b[0m\u001b[0mtime2\u001b[0m\u001b[0;34m)\u001b[0m\u001b[0;34m\u001b[0m\u001b[0;34m\u001b[0m\u001b[0m\n\u001b[0;32m---> 12\u001b[0;31m   \u001b[0;32mif\u001b[0m\u001b[0;34m(\u001b[0m\u001b[0mtime1\u001b[0m \u001b[0;34m<\u001b[0m \u001b[0mtime2\u001b[0m\u001b[0;34m)\u001b[0m\u001b[0;34m:\u001b[0m\u001b[0;34m\u001b[0m\u001b[0;34m\u001b[0m\u001b[0m\n\u001b[0m\u001b[1;32m     13\u001b[0m     \u001b[0mtime\u001b[0m \u001b[0;34m=\u001b[0m \u001b[0mtime2\u001b[0m \u001b[0;34m-\u001b[0m \u001b[0mtime1\u001b[0m\u001b[0;34m\u001b[0m\u001b[0;34m\u001b[0m\u001b[0m\n\u001b[1;32m     14\u001b[0m   \u001b[0;32melse\u001b[0m\u001b[0;34m:\u001b[0m\u001b[0;34m\u001b[0m\u001b[0;34m\u001b[0m\u001b[0m\n",
            "\u001b[0;31mTypeError\u001b[0m: '<' not supported between instances of 'function' and 'function'"
          ]
        }
      ]
    },
    {
      "cell_type": "code",
      "source": [],
      "metadata": {
        "id": "etJ1VuBHPi21"
      },
      "execution_count": null,
      "outputs": []
    },
    {
      "cell_type": "markdown",
      "source": [
        "Write a factorial calculating function, include detection for overflows, negative numbers, zero, etc being entered"
      ],
      "metadata": {
        "id": "VrvsgZmVlDjx"
      }
    },
    {
      "cell_type": "code",
      "execution_count": null,
      "metadata": {
        "id": "Zk6VC45pDrsN"
      },
      "outputs": [],
      "source": [
        "def get_factorial(num):\n",
        "  try:\n",
        "    num = int(num)\n",
        "    if((type(num) is not int) or (num < 0)):\n",
        "      raise TypeError(f\"Value of num not an int: {num}\")\n",
        "    if(num == 0):\n",
        "      return 1\n",
        "    else:\n",
        "      return num * get_factorial(num - 1)\n",
        "  except TypeError as e:\n",
        "    print(e)\n",
        "\n",
        "user_input = input(\"Enter a number: \")\n",
        "print(get_factorial(user_input))"
      ]
    }
  ]
}