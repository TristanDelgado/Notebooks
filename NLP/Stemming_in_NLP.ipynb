{
  "nbformat": 4,
  "nbformat_minor": 0,
  "metadata": {
    "colab": {
      "provenance": [],
      "authorship_tag": "ABX9TyPfF10x3p1Q9fV0zMcu9qlE",
      "include_colab_link": true
    },
    "kernelspec": {
      "name": "python3",
      "display_name": "Python 3"
    },
    "language_info": {
      "name": "python"
    }
  },
  "cells": [
    {
      "cell_type": "markdown",
      "metadata": {
        "id": "view-in-github",
        "colab_type": "text"
      },
      "source": [
        "<a href=\"https://colab.research.google.com/github/TristanDelgado/Notebooks/blob/main/NLP/Stemming_in_NLP.ipynb\" target=\"_parent\"><img src=\"https://colab.research.google.com/assets/colab-badge.svg\" alt=\"Open In Colab\"/></a>"
      ]
    },
    {
      "cell_type": "markdown",
      "source": [
        "# Stemming in NLP"
      ],
      "metadata": {
        "id": "Ytdtpwh0DW6k"
      }
    },
    {
      "cell_type": "markdown",
      "source": [
        "Stemming is the process of reducing a word to its word stem that affixes to suffixes aned prefixes or to the roots of words known as a lemma. Stemming is important in natural language understanding (NLU) and Natrual Language Processing(NLP)\n",
        "\n",
        "Stemming reduces a word down to its bare root word. An example being going, gone, and goes. All have the same root word of \"go\""
      ],
      "metadata": {
        "id": "V5XPDz6oDa4H"
      }
    },
    {
      "cell_type": "markdown",
      "source": [
        "##RegexpStemmer Class"
      ],
      "metadata": {
        "id": "z_37d-4BDrlm"
      }
    },
    {
      "cell_type": "markdown",
      "source": [
        "NLTK has RegexStemmer class with the help of which we can easily implemnt Regular Expression Stemmer algorithms. It basically takes a single"
      ],
      "metadata": {
        "id": "A2if4jsjDwvv"
      }
    }
  ]
}