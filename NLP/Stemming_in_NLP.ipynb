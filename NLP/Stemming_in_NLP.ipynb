{
  "nbformat": 4,
  "nbformat_minor": 0,
  "metadata": {
    "colab": {
      "provenance": [],
      "authorship_tag": "ABX9TyPla+dsvdHy9VeXRhSAamnh",
      "include_colab_link": true
    },
    "kernelspec": {
      "name": "python3",
      "display_name": "Python 3"
    },
    "language_info": {
      "name": "python"
    }
  },
  "cells": [
    {
      "cell_type": "markdown",
      "metadata": {
        "id": "view-in-github",
        "colab_type": "text"
      },
      "source": [
        "<a href=\"https://colab.research.google.com/github/TristanDelgado/Notebooks/blob/main/NLP/Stemming_in_NLP.ipynb\" target=\"_parent\"><img src=\"https://colab.research.google.com/assets/colab-badge.svg\" alt=\"Open In Colab\"/></a>"
      ]
    },
    {
      "cell_type": "markdown",
      "source": [
        "# Stemming in NLP"
      ],
      "metadata": {
        "id": "Ytdtpwh0DW6k"
      }
    },
    {
      "cell_type": "markdown",
      "source": [
        "Stemming is the process of reducing a word to its word stem that affixes to suffixes aned prefixes or to the roots of words known as a lemma. Stemming is important in natural language understanding (NLU) and Natrual Language Processing(NLP)\n",
        "\n",
        "Stemming reduces a word down to its bare root word. An example being going, gone, and goes. All have the same root word of \"go\""
      ],
      "metadata": {
        "id": "V5XPDz6oDa4H"
      }
    },
    {
      "cell_type": "code",
      "source": [
        "words=[\"eating\",\"eats\",\"eaten\",\"writing\",\"writes\",\"programming\",\"programs\",\"history\",\"finally\",\"finalized\"]"
      ],
      "metadata": {
        "id": "8R8QNuKOzEFC"
      },
      "execution_count": 4,
      "outputs": []
    },
    {
      "cell_type": "markdown",
      "source": [
        "###Porter Stemmer"
      ],
      "metadata": {
        "id": "l4rd1dxuzPSC"
      }
    },
    {
      "cell_type": "code",
      "source": [
        "from nltk.stem import PorterStemmer\n",
        "stemming = PorterStemmer()"
      ],
      "metadata": {
        "id": "XRWUMYD4zECj"
      },
      "execution_count": 5,
      "outputs": []
    },
    {
      "cell_type": "code",
      "source": [
        "for word in words:\n",
        "  print(word + \"--->\" + stemming.stem(word))"
      ],
      "metadata": {
        "id": "WYGKXWvOzD_0",
        "outputId": "9f437315-f9e6-46af-b277-8adba494fe70",
        "colab": {
          "base_uri": "https://localhost:8080/"
        }
      },
      "execution_count": 8,
      "outputs": [
        {
          "output_type": "stream",
          "name": "stdout",
          "text": [
            "eating--->eat\n",
            "eats--->eat\n",
            "eaten--->eaten\n",
            "writing--->write\n",
            "writes--->write\n",
            "programming--->program\n",
            "programs--->program\n",
            "history--->histori\n",
            "finally--->final\n",
            "finalized--->final\n"
          ]
        }
      ]
    },
    {
      "cell_type": "code",
      "source": [
        "# Major disadvantage of stemming\n",
        "## Sometimes words lose meaning\n",
        "stemming.stem(\"congratulations\")"
      ],
      "metadata": {
        "id": "MGSY2UKJzD9S",
        "outputId": "aba46053-347e-4dc0-81f8-36a5d62fcd8e",
        "colab": {
          "base_uri": "https://localhost:8080/",
          "height": 35
        }
      },
      "execution_count": 10,
      "outputs": [
        {
          "output_type": "execute_result",
          "data": {
            "text/plain": [
              "'congratul'"
            ],
            "application/vnd.google.colaboratory.intrinsic+json": {
              "type": "string"
            }
          },
          "metadata": {},
          "execution_count": 10
        }
      ]
    },
    {
      "cell_type": "code",
      "source": [
        "stemming.stem(\"ssitting\")"
      ],
      "metadata": {
        "id": "3rjONNz0zD6q",
        "outputId": "7930dcde-7036-48a4-bca6-52b01e08fc6d",
        "colab": {
          "base_uri": "https://localhost:8080/",
          "height": 35
        }
      },
      "execution_count": 11,
      "outputs": [
        {
          "output_type": "execute_result",
          "data": {
            "text/plain": [
              "'ssit'"
            ],
            "application/vnd.google.colaboratory.intrinsic+json": {
              "type": "string"
            }
          },
          "metadata": {},
          "execution_count": 11
        }
      ]
    },
    {
      "cell_type": "markdown",
      "source": [
        "##RegexpStemmer Class"
      ],
      "metadata": {
        "id": "z_37d-4BDrlm"
      }
    },
    {
      "cell_type": "markdown",
      "source": [
        "NLTK has RegexpStemmer class with the help of which we can easily implement Regular Expression Stemmer algorithms. It basically takes a single regular expression and removes any prefix or suffix that matches the expression. Let us see an example:"
      ],
      "metadata": {
        "id": "A2if4jsjDwvv"
      }
    },
    {
      "cell_type": "code",
      "source": [
        "from nltk.stem import RegexpStemmer"
      ],
      "metadata": {
        "id": "4IShW-o20qkE"
      },
      "execution_count": 12,
      "outputs": []
    },
    {
      "cell_type": "code",
      "source": [
        "reg_stemmer = RegexpStemmer('ing$|s$|e$|able$', min=4)"
      ],
      "metadata": {
        "id": "s1URiqLh0z5V"
      },
      "execution_count": 14,
      "outputs": []
    },
    {
      "cell_type": "code",
      "source": [
        "reg_stemmer.stem(\"eating\")"
      ],
      "metadata": {
        "id": "QcluXjlh1B6N",
        "outputId": "ad8baf46-5ff9-4245-ca67-d87cd5c869b2",
        "colab": {
          "base_uri": "https://localhost:8080/",
          "height": 35
        }
      },
      "execution_count": 15,
      "outputs": [
        {
          "output_type": "execute_result",
          "data": {
            "text/plain": [
              "'eat'"
            ],
            "application/vnd.google.colaboratory.intrinsic+json": {
              "type": "string"
            }
          },
          "metadata": {},
          "execution_count": 15
        }
      ]
    },
    {
      "cell_type": "code",
      "source": [
        "reg_stemmer.stem(\"ingeating\")"
      ],
      "metadata": {
        "id": "ZHa860kJ1M6s",
        "outputId": "21a7984d-15ab-4243-9473-61130c7159d3",
        "colab": {
          "base_uri": "https://localhost:8080/",
          "height": 35
        }
      },
      "execution_count": 16,
      "outputs": [
        {
          "output_type": "execute_result",
          "data": {
            "text/plain": [
              "'ingeat'"
            ],
            "application/vnd.google.colaboratory.intrinsic+json": {
              "type": "string"
            }
          },
          "metadata": {},
          "execution_count": 16
        }
      ]
    },
    {
      "cell_type": "markdown",
      "source": [
        "# Snowball Stemmer"
      ],
      "metadata": {
        "id": "2cMIHo7w1dnT"
      }
    },
    {
      "cell_type": "markdown",
      "source": [
        "It is a stemming algorithm which is also known as the Porter2 stemming algorithm as it is a better version of the Porter Stemmer since some issues of it were fixed in this stemmer."
      ],
      "metadata": {
        "id": "jqyoW3wL1Zo6"
      }
    },
    {
      "cell_type": "code",
      "source": [
        "from nltk.stem import SnowballStemmer"
      ],
      "metadata": {
        "id": "wS8oSaLU1R5M"
      },
      "execution_count": 17,
      "outputs": []
    },
    {
      "cell_type": "code",
      "source": [
        "snowballStemmer = SnowballStemmer(\"english\")"
      ],
      "metadata": {
        "id": "Nu0OCWml1z28"
      },
      "execution_count": 22,
      "outputs": []
    },
    {
      "cell_type": "code",
      "source": [
        "for word in words:\n",
        "  print(word + \" ----> \" + snowballStemmer.stem(word))"
      ],
      "metadata": {
        "id": "25yv5SJm1_wE",
        "outputId": "b08a864d-f2fd-4912-efee-c7575aa7e261",
        "colab": {
          "base_uri": "https://localhost:8080/"
        }
      },
      "execution_count": 24,
      "outputs": [
        {
          "output_type": "stream",
          "name": "stdout",
          "text": [
            "eating ----> eat\n",
            "eats ----> eat\n",
            "eaten ----> eaten\n",
            "writing ----> write\n",
            "writes ----> write\n",
            "programming ----> program\n",
            "programs ----> program\n",
            "history ----> histori\n",
            "finally ----> final\n",
            "finalized ----> final\n"
          ]
        }
      ]
    },
    {
      "cell_type": "code",
      "source": [
        "# stemming vs snowball\n",
        "stemming.stem(\"fairly\"), snowballStemmer.stem(\"fairly\")"
      ],
      "metadata": {
        "id": "W9t8Ew252H78",
        "outputId": "53470a66-e2e4-498b-8a20-8df92de8f973",
        "colab": {
          "base_uri": "https://localhost:8080/"
        }
      },
      "execution_count": 25,
      "outputs": [
        {
          "output_type": "execute_result",
          "data": {
            "text/plain": [
              "('fairli', 'fair')"
            ]
          },
          "metadata": {},
          "execution_count": 25
        }
      ]
    },
    {
      "cell_type": "code",
      "source": [
        "stemming.stem(\"sportingly\"), snowballStemmer.stem(\"sportingly\")"
      ],
      "metadata": {
        "id": "HNgALG3_25Kl",
        "outputId": "c7275ac1-e403-4381-a6f6-f19d0574d959",
        "colab": {
          "base_uri": "https://localhost:8080/"
        }
      },
      "execution_count": 26,
      "outputs": [
        {
          "output_type": "execute_result",
          "data": {
            "text/plain": [
              "('sportingli', 'sport')"
            ]
          },
          "metadata": {},
          "execution_count": 26
        }
      ]
    }
  ]
}