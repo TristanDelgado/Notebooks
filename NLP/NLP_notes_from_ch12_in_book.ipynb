{
  "nbformat": 4,
  "nbformat_minor": 0,
  "metadata": {
    "colab": {
      "provenance": [],
      "authorship_tag": "ABX9TyMKjdnHu2yyGGCMaLMol3rl",
      "include_colab_link": true
    },
    "kernelspec": {
      "name": "python3",
      "display_name": "Python 3"
    },
    "language_info": {
      "name": "python"
    }
  },
  "cells": [
    {
      "cell_type": "markdown",
      "metadata": {
        "id": "view-in-github",
        "colab_type": "text"
      },
      "source": [
        "<a href=\"https://colab.research.google.com/github/TristanDelgado/Notebooks/blob/main/NLP/NLP_notes_from_ch12_in_book.ipynb\" target=\"_parent\"><img src=\"https://colab.research.google.com/assets/colab-badge.svg\" alt=\"Open In Colab\"/></a>"
      ]
    },
    {
      "cell_type": "markdown",
      "source": [
        "# NLP Practice"
      ],
      "metadata": {
        "id": "f2hMzzNLG3TU"
      }
    },
    {
      "cell_type": "markdown",
      "source": [
        "## Chapter 12 from \"Intro to Python for Computer Science and Data Science\"\n",
        "\n"
      ],
      "metadata": {
        "id": "KsHrxtjNG6Dl"
      }
    },
    {
      "cell_type": "code",
      "execution_count": null,
      "metadata": {
        "id": "7A1yA8aTGzgg"
      },
      "outputs": [],
      "source": [
        "# Package install\n",
        "from nltk.downloader import download\n",
        "from textblob import download_corpora, TextBlob\n",
        "from textblob import Word\n",
        "\n",
        "\n",
        "download(\"punkt_tab\")\n",
        "download(\"averaged_perceptron_tagger_eng\")\n",
        "download(\"brown\")"
      ]
    },
    {
      "cell_type": "markdown",
      "source": [
        "### Textblobs"
      ],
      "metadata": {
        "id": "dY_rGMc5HBLo"
      }
    },
    {
      "cell_type": "code",
      "source": [
        "# Practice content initialization\n",
        "text = 'Today is a beautiful day. Tomorrow looks like bad weather.'\n",
        "blob = TextBlob(text)"
      ],
      "metadata": {
        "id": "TM5b0ZOdIcuP"
      },
      "execution_count": null,
      "outputs": []
    },
    {
      "cell_type": "code",
      "source": [
        "print(blob.sentences)\n",
        "print(blob.words)\n",
        "print(blob.tags)\n",
        "print(blob.noun_phrases)"
      ],
      "metadata": {
        "id": "VaBfgNNYSfl0"
      },
      "execution_count": null,
      "outputs": []
    },
    {
      "cell_type": "code",
      "source": [
        "'''\n",
        "In the preceding output, the polarity indicates sentiment with a value from -1.0 (negative) to 1.0 (positive)\n",
        "with 0.0 being neutral. The subjectivity is a value from 0.0 (objective) to 1.0 (subjective).\n",
        "Based on the values for our TextBlob, the overall sentiment is close to neutral, and the text is mostly subjective.\n",
        "'''\n",
        "\n",
        "blob.sentiment"
      ],
      "metadata": {
        "id": "aqoBuG2RShYO"
      },
      "execution_count": null,
      "outputs": []
    },
    {
      "cell_type": "code",
      "source": [
        "for sentence in blob.sentences:\n",
        "  print(sentence.sentiment)"
      ],
      "metadata": {
        "id": "gkduGJsIUmHW"
      },
      "execution_count": null,
      "outputs": []
    },
    {
      "cell_type": "markdown",
      "source": [
        "### Plurazation and Singularization"
      ],
      "metadata": {
        "id": "14kJSaYuc2EY"
      }
    },
    {
      "cell_type": "code",
      "source": [
        "index = Word(\"index\")\n",
        "index.pluralize()"
      ],
      "metadata": {
        "id": "B2inLT_Xc58e"
      },
      "execution_count": null,
      "outputs": []
    },
    {
      "cell_type": "code",
      "source": [
        "cacti = Word(\"Cacti\")\n",
        "cacti.singularize()"
      ],
      "metadata": {
        "id": "y_LhX8a1dI6P"
      },
      "execution_count": null,
      "outputs": []
    },
    {
      "cell_type": "markdown",
      "source": [
        "### Spell Checking and Correction"
      ],
      "metadata": {
        "id": "BqY_Iyb7dg8c"
      }
    },
    {
      "cell_type": "code",
      "source": [
        "word = Word(\"theyr\")\n",
        "%precision 2\n",
        "\n",
        "word.spellcheck()"
      ],
      "metadata": {
        "id": "pRsb7KnCdQOG"
      },
      "execution_count": null,
      "outputs": []
    },
    {
      "cell_type": "code",
      "source": [
        "word.correct()"
      ],
      "metadata": {
        "id": "LTw_jZ4sdyaP"
      },
      "execution_count": null,
      "outputs": []
    },
    {
      "cell_type": "markdown",
      "source": [
        "### Stopwords"
      ],
      "metadata": {
        "id": "7GAC_8Y1eBPE"
      }
    },
    {
      "cell_type": "code",
      "source": [
        "# Download the required library\n",
        "download(\"stopwords\")"
      ],
      "metadata": {
        "id": "T93J0jYxe36H"
      },
      "execution_count": null,
      "outputs": []
    },
    {
      "cell_type": "code",
      "source": [
        "from nltk.corpus import stopwords\n",
        "stops = stopwords.words(\"english\")"
      ],
      "metadata": {
        "id": "Dc-onjyFe-U3"
      },
      "execution_count": null,
      "outputs": []
    },
    {
      "cell_type": "code",
      "source": [
        "from textblob import Word\n",
        "[word for word in blob.words if word not in stops]"
      ],
      "metadata": {
        "id": "Qo9XORQ8fEOH"
      },
      "execution_count": null,
      "outputs": []
    }
  ]
}